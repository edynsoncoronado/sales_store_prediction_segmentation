{
 "cells": [
  {
   "cell_type": "code",
   "execution_count": 4,
   "id": "6a7f1637-85c4-47fc-aba3-bb5d8c8c8319",
   "metadata": {},
   "outputs": [],
   "source": [
    "import pandas as pd\n",
    "import numpy as np"
   ]
  },
  {
   "cell_type": "code",
   "execution_count": 9,
   "id": "042b9b7a",
   "metadata": {},
   "outputs": [
    {
     "data": {
      "text/html": [
       "<div>\n",
       "<style scoped>\n",
       "    .dataframe tbody tr th:only-of-type {\n",
       "        vertical-align: middle;\n",
       "    }\n",
       "\n",
       "    .dataframe tbody tr th {\n",
       "        vertical-align: top;\n",
       "    }\n",
       "\n",
       "    .dataframe thead th {\n",
       "        text-align: right;\n",
       "    }\n",
       "</style>\n",
       "<table border=\"1\" class=\"dataframe\">\n",
       "  <thead>\n",
       "    <tr style=\"text-align: right;\">\n",
       "      <th></th>\n",
       "      <th>id</th>\n",
       "      <th>date</th>\n",
       "      <th>store_nbr</th>\n",
       "      <th>family</th>\n",
       "      <th>sales</th>\n",
       "      <th>onpromotion</th>\n",
       "      <th>city</th>\n",
       "      <th>state</th>\n",
       "      <th>type_x</th>\n",
       "      <th>cluster</th>\n",
       "      <th>transactions</th>\n",
       "      <th>dcoilwtico</th>\n",
       "      <th>type_y</th>\n",
       "      <th>locale</th>\n",
       "      <th>locale_name</th>\n",
       "      <th>description</th>\n",
       "      <th>transferred</th>\n",
       "    </tr>\n",
       "  </thead>\n",
       "  <tbody>\n",
       "    <tr>\n",
       "      <th>0</th>\n",
       "      <td>0</td>\n",
       "      <td>2013-01-01</td>\n",
       "      <td>1</td>\n",
       "      <td>AUTOMOTIVE</td>\n",
       "      <td>0.0</td>\n",
       "      <td>0</td>\n",
       "      <td>Quito</td>\n",
       "      <td>Pichincha</td>\n",
       "      <td>D</td>\n",
       "      <td>13</td>\n",
       "      <td>NaN</td>\n",
       "      <td>NaN</td>\n",
       "      <td>Holiday</td>\n",
       "      <td>National</td>\n",
       "      <td>Ecuador</td>\n",
       "      <td>Primer dia del ano</td>\n",
       "      <td>False</td>\n",
       "    </tr>\n",
       "    <tr>\n",
       "      <th>1</th>\n",
       "      <td>1</td>\n",
       "      <td>2013-01-01</td>\n",
       "      <td>1</td>\n",
       "      <td>BABY CARE</td>\n",
       "      <td>0.0</td>\n",
       "      <td>0</td>\n",
       "      <td>Quito</td>\n",
       "      <td>Pichincha</td>\n",
       "      <td>D</td>\n",
       "      <td>13</td>\n",
       "      <td>NaN</td>\n",
       "      <td>NaN</td>\n",
       "      <td>Holiday</td>\n",
       "      <td>National</td>\n",
       "      <td>Ecuador</td>\n",
       "      <td>Primer dia del ano</td>\n",
       "      <td>False</td>\n",
       "    </tr>\n",
       "    <tr>\n",
       "      <th>2</th>\n",
       "      <td>2</td>\n",
       "      <td>2013-01-01</td>\n",
       "      <td>1</td>\n",
       "      <td>BEAUTY</td>\n",
       "      <td>0.0</td>\n",
       "      <td>0</td>\n",
       "      <td>Quito</td>\n",
       "      <td>Pichincha</td>\n",
       "      <td>D</td>\n",
       "      <td>13</td>\n",
       "      <td>NaN</td>\n",
       "      <td>NaN</td>\n",
       "      <td>Holiday</td>\n",
       "      <td>National</td>\n",
       "      <td>Ecuador</td>\n",
       "      <td>Primer dia del ano</td>\n",
       "      <td>False</td>\n",
       "    </tr>\n",
       "    <tr>\n",
       "      <th>3</th>\n",
       "      <td>3</td>\n",
       "      <td>2013-01-01</td>\n",
       "      <td>1</td>\n",
       "      <td>BEVERAGES</td>\n",
       "      <td>0.0</td>\n",
       "      <td>0</td>\n",
       "      <td>Quito</td>\n",
       "      <td>Pichincha</td>\n",
       "      <td>D</td>\n",
       "      <td>13</td>\n",
       "      <td>NaN</td>\n",
       "      <td>NaN</td>\n",
       "      <td>Holiday</td>\n",
       "      <td>National</td>\n",
       "      <td>Ecuador</td>\n",
       "      <td>Primer dia del ano</td>\n",
       "      <td>False</td>\n",
       "    </tr>\n",
       "    <tr>\n",
       "      <th>4</th>\n",
       "      <td>4</td>\n",
       "      <td>2013-01-01</td>\n",
       "      <td>1</td>\n",
       "      <td>BOOKS</td>\n",
       "      <td>0.0</td>\n",
       "      <td>0</td>\n",
       "      <td>Quito</td>\n",
       "      <td>Pichincha</td>\n",
       "      <td>D</td>\n",
       "      <td>13</td>\n",
       "      <td>NaN</td>\n",
       "      <td>NaN</td>\n",
       "      <td>Holiday</td>\n",
       "      <td>National</td>\n",
       "      <td>Ecuador</td>\n",
       "      <td>Primer dia del ano</td>\n",
       "      <td>False</td>\n",
       "    </tr>\n",
       "  </tbody>\n",
       "</table>\n",
       "</div>"
      ],
      "text/plain": [
       "   id       date  store_nbr      family  sales  onpromotion   city      state  \\\n",
       "0   0 2013-01-01          1  AUTOMOTIVE    0.0            0  Quito  Pichincha   \n",
       "1   1 2013-01-01          1   BABY CARE    0.0            0  Quito  Pichincha   \n",
       "2   2 2013-01-01          1      BEAUTY    0.0            0  Quito  Pichincha   \n",
       "3   3 2013-01-01          1   BEVERAGES    0.0            0  Quito  Pichincha   \n",
       "4   4 2013-01-01          1       BOOKS    0.0            0  Quito  Pichincha   \n",
       "\n",
       "  type_x  cluster  transactions  dcoilwtico   type_y    locale locale_name  \\\n",
       "0      D       13           NaN         NaN  Holiday  National     Ecuador   \n",
       "1      D       13           NaN         NaN  Holiday  National     Ecuador   \n",
       "2      D       13           NaN         NaN  Holiday  National     Ecuador   \n",
       "3      D       13           NaN         NaN  Holiday  National     Ecuador   \n",
       "4      D       13           NaN         NaN  Holiday  National     Ecuador   \n",
       "\n",
       "          description transferred  \n",
       "0  Primer dia del ano       False  \n",
       "1  Primer dia del ano       False  \n",
       "2  Primer dia del ano       False  \n",
       "3  Primer dia del ano       False  \n",
       "4  Primer dia del ano       False  "
      ]
     },
     "execution_count": 9,
     "metadata": {},
     "output_type": "execute_result"
    }
   ],
   "source": [
    "source_path = \"../data/processed/favorita_clean.parquet\"\n",
    "df = pd.read_parquet(source_path)\n",
    "df.head()"
   ]
  },
  {
   "cell_type": "code",
   "execution_count": 3,
   "id": "233ac5e1",
   "metadata": {},
   "outputs": [
    {
     "data": {
      "text/plain": [
       "array(['AUTOMOTIVE', 'BABY CARE', 'BEAUTY', 'BEVERAGES', 'BOOKS',\n",
       "       'BREAD/BAKERY', 'CELEBRATION', 'CLEANING', 'DAIRY', 'DELI', 'EGGS',\n",
       "       'FROZEN FOODS', 'GROCERY I', 'GROCERY II', 'HARDWARE',\n",
       "       'HOME AND KITCHEN I', 'HOME AND KITCHEN II', 'HOME APPLIANCES',\n",
       "       'HOME CARE', 'LADIESWEAR', 'LAWN AND GARDEN', 'LINGERIE',\n",
       "       'LIQUOR,WINE,BEER', 'MAGAZINES', 'MEATS', 'PERSONAL CARE',\n",
       "       'PET SUPPLIES', 'PLAYERS AND ELECTRONICS', 'POULTRY',\n",
       "       'PREPARED FOODS', 'PRODUCE', 'SCHOOL AND OFFICE SUPPLIES',\n",
       "       'SEAFOOD'], dtype=object)"
      ]
     },
     "execution_count": 3,
     "metadata": {},
     "output_type": "execute_result"
    }
   ],
   "source": [
    "df[\"family\"].unique()"
   ]
  },
  {
   "cell_type": "code",
   "execution_count": 4,
   "id": "bda9cac1",
   "metadata": {},
   "outputs": [
    {
     "data": {
      "text/plain": [
       "np.int64(0)"
      ]
     },
     "execution_count": 4,
     "metadata": {},
     "output_type": "execute_result"
    }
   ],
   "source": [
    "df[\"family\"].isnull().sum()"
   ]
  },
  {
   "cell_type": "code",
   "execution_count": 5,
   "id": "2e1c0ae9",
   "metadata": {},
   "outputs": [
    {
     "data": {
      "text/plain": [
       "array([ 1, 10, 11, 12, 13, 14, 15, 16, 17, 18, 19,  2, 20, 21, 22, 23, 24,\n",
       "       25, 26, 27, 28, 29,  3, 30, 31, 32, 33, 34, 35, 36, 37, 38, 39,  4,\n",
       "       40, 41, 42, 43, 44, 45, 46, 47, 48, 49,  5, 50, 51, 52, 53, 54,  6,\n",
       "        7,  8,  9])"
      ]
     },
     "execution_count": 5,
     "metadata": {},
     "output_type": "execute_result"
    }
   ],
   "source": [
    "df[\"store_nbr\"].unique()"
   ]
  },
  {
   "cell_type": "code",
   "execution_count": 6,
   "id": "8942a23d",
   "metadata": {},
   "outputs": [
    {
     "data": {
      "text/plain": [
       "np.int64(0)"
      ]
     },
     "execution_count": 6,
     "metadata": {},
     "output_type": "execute_result"
    }
   ],
   "source": [
    "df[\"store_nbr\"].isnull().sum()"
   ]
  },
  {
   "cell_type": "code",
   "execution_count": 7,
   "id": "bac19474",
   "metadata": {},
   "outputs": [
    {
     "data": {
      "text/plain": [
       "<DatetimeArray>\n",
       "['2013-01-01 00:00:00', '2013-01-02 00:00:00', '2013-01-03 00:00:00',\n",
       " '2013-01-04 00:00:00', '2013-01-05 00:00:00', '2013-01-06 00:00:00',\n",
       " '2013-01-07 00:00:00', '2013-01-08 00:00:00', '2013-01-09 00:00:00',\n",
       " '2013-01-10 00:00:00',\n",
       " ...\n",
       " '2017-08-06 00:00:00', '2017-08-07 00:00:00', '2017-08-08 00:00:00',\n",
       " '2017-08-09 00:00:00', '2017-08-10 00:00:00', '2017-08-11 00:00:00',\n",
       " '2017-08-12 00:00:00', '2017-08-13 00:00:00', '2017-08-14 00:00:00',\n",
       " '2017-08-15 00:00:00']\n",
       "Length: 1684, dtype: datetime64[ns]"
      ]
     },
     "execution_count": 7,
     "metadata": {},
     "output_type": "execute_result"
    }
   ],
   "source": [
    "df[\"date\"].unique()"
   ]
  },
  {
   "cell_type": "code",
   "execution_count": 8,
   "id": "cafd0934",
   "metadata": {},
   "outputs": [
    {
     "data": {
      "text/html": [
       "<div>\n",
       "<style scoped>\n",
       "    .dataframe tbody tr th:only-of-type {\n",
       "        vertical-align: middle;\n",
       "    }\n",
       "\n",
       "    .dataframe tbody tr th {\n",
       "        vertical-align: top;\n",
       "    }\n",
       "\n",
       "    .dataframe thead th {\n",
       "        text-align: right;\n",
       "    }\n",
       "</style>\n",
       "<table border=\"1\" class=\"dataframe\">\n",
       "  <thead>\n",
       "    <tr style=\"text-align: right;\">\n",
       "      <th></th>\n",
       "      <th>id</th>\n",
       "      <th>date</th>\n",
       "      <th>store_nbr</th>\n",
       "      <th>family</th>\n",
       "      <th>sales</th>\n",
       "      <th>onpromotion</th>\n",
       "      <th>city</th>\n",
       "      <th>state</th>\n",
       "      <th>type_x</th>\n",
       "      <th>cluster</th>\n",
       "      <th>transactions</th>\n",
       "      <th>dcoilwtico</th>\n",
       "      <th>type_y</th>\n",
       "      <th>locale</th>\n",
       "      <th>locale_name</th>\n",
       "      <th>description</th>\n",
       "      <th>transferred</th>\n",
       "    </tr>\n",
       "  </thead>\n",
       "  <tbody>\n",
       "    <tr>\n",
       "      <th>0</th>\n",
       "      <td>0</td>\n",
       "      <td>2013-01-01</td>\n",
       "      <td>1</td>\n",
       "      <td>AUTOMOTIVE</td>\n",
       "      <td>0.0</td>\n",
       "      <td>0</td>\n",
       "      <td>Quito</td>\n",
       "      <td>Pichincha</td>\n",
       "      <td>D</td>\n",
       "      <td>13</td>\n",
       "      <td>NaN</td>\n",
       "      <td>NaN</td>\n",
       "      <td>Holiday</td>\n",
       "      <td>National</td>\n",
       "      <td>Ecuador</td>\n",
       "      <td>Primer dia del ano</td>\n",
       "      <td>False</td>\n",
       "    </tr>\n",
       "    <tr>\n",
       "      <th>1782</th>\n",
       "      <td>1782</td>\n",
       "      <td>2013-01-02</td>\n",
       "      <td>1</td>\n",
       "      <td>AUTOMOTIVE</td>\n",
       "      <td>2.0</td>\n",
       "      <td>0</td>\n",
       "      <td>Quito</td>\n",
       "      <td>Pichincha</td>\n",
       "      <td>D</td>\n",
       "      <td>13</td>\n",
       "      <td>2111.0</td>\n",
       "      <td>93.14</td>\n",
       "      <td>None</td>\n",
       "      <td>None</td>\n",
       "      <td>None</td>\n",
       "      <td>None</td>\n",
       "      <td>None</td>\n",
       "    </tr>\n",
       "    <tr>\n",
       "      <th>3564</th>\n",
       "      <td>3564</td>\n",
       "      <td>2013-01-03</td>\n",
       "      <td>1</td>\n",
       "      <td>AUTOMOTIVE</td>\n",
       "      <td>3.0</td>\n",
       "      <td>0</td>\n",
       "      <td>Quito</td>\n",
       "      <td>Pichincha</td>\n",
       "      <td>D</td>\n",
       "      <td>13</td>\n",
       "      <td>1833.0</td>\n",
       "      <td>92.97</td>\n",
       "      <td>None</td>\n",
       "      <td>None</td>\n",
       "      <td>None</td>\n",
       "      <td>None</td>\n",
       "      <td>None</td>\n",
       "    </tr>\n",
       "    <tr>\n",
       "      <th>5346</th>\n",
       "      <td>5346</td>\n",
       "      <td>2013-01-04</td>\n",
       "      <td>1</td>\n",
       "      <td>AUTOMOTIVE</td>\n",
       "      <td>3.0</td>\n",
       "      <td>0</td>\n",
       "      <td>Quito</td>\n",
       "      <td>Pichincha</td>\n",
       "      <td>D</td>\n",
       "      <td>13</td>\n",
       "      <td>1863.0</td>\n",
       "      <td>93.12</td>\n",
       "      <td>None</td>\n",
       "      <td>None</td>\n",
       "      <td>None</td>\n",
       "      <td>None</td>\n",
       "      <td>None</td>\n",
       "    </tr>\n",
       "    <tr>\n",
       "      <th>7128</th>\n",
       "      <td>7128</td>\n",
       "      <td>2013-01-05</td>\n",
       "      <td>1</td>\n",
       "      <td>AUTOMOTIVE</td>\n",
       "      <td>5.0</td>\n",
       "      <td>0</td>\n",
       "      <td>Quito</td>\n",
       "      <td>Pichincha</td>\n",
       "      <td>D</td>\n",
       "      <td>13</td>\n",
       "      <td>1509.0</td>\n",
       "      <td>NaN</td>\n",
       "      <td>Work Day</td>\n",
       "      <td>National</td>\n",
       "      <td>Ecuador</td>\n",
       "      <td>Recupero puente Navidad</td>\n",
       "      <td>False</td>\n",
       "    </tr>\n",
       "  </tbody>\n",
       "</table>\n",
       "</div>"
      ],
      "text/plain": [
       "        id       date  store_nbr      family  sales  onpromotion   city  \\\n",
       "0        0 2013-01-01          1  AUTOMOTIVE    0.0            0  Quito   \n",
       "1782  1782 2013-01-02          1  AUTOMOTIVE    2.0            0  Quito   \n",
       "3564  3564 2013-01-03          1  AUTOMOTIVE    3.0            0  Quito   \n",
       "5346  5346 2013-01-04          1  AUTOMOTIVE    3.0            0  Quito   \n",
       "7128  7128 2013-01-05          1  AUTOMOTIVE    5.0            0  Quito   \n",
       "\n",
       "          state type_x  cluster  transactions  dcoilwtico    type_y    locale  \\\n",
       "0     Pichincha      D       13           NaN         NaN   Holiday  National   \n",
       "1782  Pichincha      D       13        2111.0       93.14      None      None   \n",
       "3564  Pichincha      D       13        1833.0       92.97      None      None   \n",
       "5346  Pichincha      D       13        1863.0       93.12      None      None   \n",
       "7128  Pichincha      D       13        1509.0         NaN  Work Day  National   \n",
       "\n",
       "     locale_name              description transferred  \n",
       "0        Ecuador       Primer dia del ano       False  \n",
       "1782        None                     None        None  \n",
       "3564        None                     None        None  \n",
       "5346        None                     None        None  \n",
       "7128     Ecuador  Recupero puente Navidad       False  "
      ]
     },
     "execution_count": 8,
     "metadata": {},
     "output_type": "execute_result"
    }
   ],
   "source": [
    "df = df.sort_values([\"store_nbr\", \"family\", \"date\"])\n",
    "df.head()"
   ]
  },
  {
   "cell_type": "code",
   "execution_count": 9,
   "id": "83a5c1c7",
   "metadata": {},
   "outputs": [
    {
     "data": {
      "text/plain": [
       "(3054348, 17)"
      ]
     },
     "execution_count": 9,
     "metadata": {},
     "output_type": "execute_result"
    }
   ],
   "source": [
    "df.shape"
   ]
  },
  {
   "cell_type": "code",
   "execution_count": 10,
   "id": "2fefe158",
   "metadata": {},
   "outputs": [
    {
     "name": "stdout",
     "output_type": "stream",
     "text": [
      "<class 'pandas.core.frame.DataFrame'>\n",
      "Index: 3054348 entries, 0 to 3054215\n",
      "Data columns (total 17 columns):\n",
      " #   Column        Dtype         \n",
      "---  ------        -----         \n",
      " 0   id            int64         \n",
      " 1   date          datetime64[ns]\n",
      " 2   store_nbr     int64         \n",
      " 3   family        object        \n",
      " 4   sales         float64       \n",
      " 5   onpromotion   int64         \n",
      " 6   city          object        \n",
      " 7   state         object        \n",
      " 8   type_x        object        \n",
      " 9   cluster       int64         \n",
      " 10  transactions  float64       \n",
      " 11  dcoilwtico    float64       \n",
      " 12  type_y        object        \n",
      " 13  locale        object        \n",
      " 14  locale_name   object        \n",
      " 15  description   object        \n",
      " 16  transferred   object        \n",
      "dtypes: datetime64[ns](1), float64(3), int64(4), object(9)\n",
      "memory usage: 419.5+ MB\n"
     ]
    }
   ],
   "source": [
    "df.info()"
   ]
  },
  {
   "cell_type": "markdown",
   "id": "c6ebacd7",
   "metadata": {},
   "source": [
    "# =====\n",
    "# FeastureStore con Feast\n",
    "# ====="
   ]
  },
  {
   "cell_type": "code",
   "execution_count": 1,
   "id": "91ad4314",
   "metadata": {},
   "outputs": [],
   "source": [
    "from feast import FeatureStore, Entity, FeatureView, FeatureService, RequestSource, Field, FileSource, ValueType\n",
    "from feast.types import Int64, String, Float64\n",
    "\n",
    "from feast.on_demand_feature_view import on_demand_feature_view"
   ]
  },
  {
   "cell_type": "markdown",
   "id": "65c5071e",
   "metadata": {},
   "source": [
    "# Definir fuente de datos"
   ]
  },
  {
   "cell_type": "code",
   "execution_count": 10,
   "id": "5bf893d4",
   "metadata": {},
   "outputs": [
    {
     "name": "stdout",
     "output_type": "stream",
     "text": [
      "True\n"
     ]
    }
   ],
   "source": [
    "import os\n",
    "\n",
    "source_path = os.path.abspath(source_path)\n",
    "# print(source_path)  # Absolute path to the file\n",
    "print(os.path.exists(source_path))  # True/False"
   ]
  },
  {
   "cell_type": "code",
   "execution_count": 11,
   "id": "f9c6fd43",
   "metadata": {},
   "outputs": [],
   "source": [
    "sales_store_source = FileSource(\n",
    "    name=\"sales_store_source\",\n",
    "    path=source_path,\n",
    "    timestamp_field=\"date\",\n",
    ")"
   ]
  },
  {
   "cell_type": "markdown",
   "id": "72ffc864",
   "metadata": {},
   "source": [
    "# Definir entidad"
   ]
  },
  {
   "cell_type": "code",
   "execution_count": 12,
   "id": "fb588c28",
   "metadata": {},
   "outputs": [],
   "source": [
    "store_entity = Entity(\n",
    "    name=\"store_entity\",\n",
    "    join_keys=[\"store_nbr\"],\n",
    "    value_type=ValueType.INT64\n",
    ")\n",
    "\n",
    "family_entity = Entity(\n",
    "    name=\"family_entity\",\n",
    "    join_keys=[\"family\"],\n",
    "    value_type=ValueType.STRING\n",
    ")"
   ]
  },
  {
   "cell_type": "markdown",
   "id": "588dbac3",
   "metadata": {},
   "source": [
    "# Definir vista de características"
   ]
  },
  {
   "cell_type": "markdown",
   "id": "8fdd85e6",
   "metadata": {},
   "source": [
    "## FeatureView Standar"
   ]
  },
  {
   "cell_type": "code",
   "execution_count": 13,
   "id": "67cd8d1f",
   "metadata": {},
   "outputs": [],
   "source": [
    "sales_store_view = FeatureView(\n",
    "    name=\"sales_store_view\",\n",
    "    entities=[store_entity, family_entity],\n",
    "    schema=[\n",
    "        Field(name=\"sales\", dtype=Float64),\n",
    "        Field(name=\"onpromotion\", dtype=Int64),\n",
    "        Field(name=\"transactions\", dtype=Float64),\n",
    "        Field(name=\"dcoilwtico\", dtype=Float64),\n",
    "        Field(name=\"type_y\", dtype=String, description=\"holiday type\"),\n",
    "    ],\n",
    "    online=True,\n",
    "    source=sales_store_source,\n",
    "    tags={\"project\": \"sales_store_prediction\"},\n",
    ")"
   ]
  },
  {
   "cell_type": "markdown",
   "id": "4fccb4f1",
   "metadata": {},
   "source": [
    "## FeatureView OnDemand (odfv - OnDemanFeatureView)"
   ]
  },
  {
   "cell_type": "code",
   "execution_count": 2,
   "id": "c83571fe",
   "metadata": {},
   "outputs": [],
   "source": [
    "# Request features disponibles en tiempo real\n",
    "request_source = RequestSource(\n",
    "    name=\"request_data\",\n",
    "    schema=[\n",
    "        Field(name=\"sales\", dtype=Float64),\n",
    "        Field(name=\"onpromotion\", dtype=Int64),\n",
    "        Field(name=\"date\", dtype=Int64),\n",
    "    ],\n",
    ")"
   ]
  },
  {
   "cell_type": "code",
   "execution_count": 5,
   "id": "b783cae1",
   "metadata": {},
   "outputs": [],
   "source": [
    "@on_demand_feature_view(\n",
    "    sources=[request_source],\n",
    "    schema=[\n",
    "        Field(name=\"day_of_week\", dtype=Int64),\n",
    "        Field(name=\"month\", dtype=Int64),\n",
    "        Field(name=\"is_weekend\", dtype=Int64),\n",
    "        Field(name=\"sales_x_promo\", dtype=Float64),\n",
    "    ],\n",
    ")\n",
    "def sales_time_view(features_df: pd.DataFrame) -> pd.DataFrame:\n",
    "    # df = features_df.copy()\n",
    "    df = pd.DataFrame()\n",
    "    \n",
    "    # Features de calendario\n",
    "    df[\"day_of_week\"] = pd.to_datetime(features_df[\"date\"]).dt.dayofweek.astype(\"int64\")\n",
    "    df[\"month\"] = pd.to_datetime(features_df[\"date\"]).dt.month.astype(\"int64\")\n",
    "    df[\"is_weekend\"] = df[\"day_of_week\"].isin([5, 6]).astype(\"int64\")\n",
    "    \n",
    "    # Interacciones\n",
    "    df[\"sales_x_promo\"] = features_df[\"sales\"] * features_df[\"onpromotion\"]\n",
    "    \n",
    "    return df"
   ]
  },
  {
   "cell_type": "markdown",
   "id": "75ff8844",
   "metadata": {},
   "source": [
    "# Definir service"
   ]
  },
  {
   "cell_type": "markdown",
   "id": "42a10c01",
   "metadata": {},
   "source": [
    "## Service para features standar"
   ]
  },
  {
   "cell_type": "code",
   "execution_count": 14,
   "id": "3db2d1af",
   "metadata": {},
   "outputs": [],
   "source": [
    "sales_store_service = FeatureService(\n",
    "    name=\"sales_store_service\",\n",
    "    features=[sales_store_view],\n",
    ")"
   ]
  },
  {
   "cell_type": "markdown",
   "id": "7718e36d",
   "metadata": {},
   "source": [
    "## Service para features ondemand"
   ]
  },
  {
   "cell_type": "code",
   "execution_count": 6,
   "id": "d84163f5",
   "metadata": {},
   "outputs": [],
   "source": [
    "sales_time_service = FeatureService(\n",
    "    name=\"sales_time_service\",\n",
    "    features=[sales_time_view],\n",
    ")"
   ]
  },
  {
   "cell_type": "markdown",
   "id": "5c6f1310",
   "metadata": {},
   "source": [
    "# Registrar entidad y vistas en el FeastureStore"
   ]
  },
  {
   "cell_type": "code",
   "execution_count": 31,
   "id": "70d5eb20",
   "metadata": {},
   "outputs": [
    {
     "name": "stderr",
     "output_type": "stream",
     "text": [
      "/home/edyn/Documentos/obsidian-doc/Projects/MachineLearningEngineer/Curso2/Proyecto/Repo/sales_store_prediction_segmentation/.venv/lib/python3.12/site-packages/feast/feature_store.py:583: RuntimeWarning: On demand feature view is an experimental feature. This API is stable, but the functionality does not scale well for offline retrieval\n",
      "  warnings.warn(\n"
     ]
    }
   ],
   "source": [
    "fs = FeatureStore(repo_path=\"../feature_repo/feature_repo\")\n",
    "fs.apply([\n",
    "    store_entity, family_entity, \n",
    "    sales_store_view, sales_time_view,\n",
    "    sales_store_service, sales_time_service\n",
    "])"
   ]
  },
  {
   "cell_type": "markdown",
   "id": "45aab9e1",
   "metadata": {},
   "source": [
    "# Consumir feature Standar"
   ]
  },
  {
   "cell_type": "code",
   "execution_count": 16,
   "id": "6800d0d5",
   "metadata": {},
   "outputs": [
    {
     "data": {
      "text/html": [
       "<div>\n",
       "<style scoped>\n",
       "    .dataframe tbody tr th:only-of-type {\n",
       "        vertical-align: middle;\n",
       "    }\n",
       "\n",
       "    .dataframe tbody tr th {\n",
       "        vertical-align: top;\n",
       "    }\n",
       "\n",
       "    .dataframe thead th {\n",
       "        text-align: right;\n",
       "    }\n",
       "</style>\n",
       "<table border=\"1\" class=\"dataframe\">\n",
       "  <thead>\n",
       "    <tr style=\"text-align: right;\">\n",
       "      <th></th>\n",
       "      <th>store_nbr</th>\n",
       "      <th>family</th>\n",
       "      <th>event_timestamp</th>\n",
       "    </tr>\n",
       "  </thead>\n",
       "  <tbody>\n",
       "    <tr>\n",
       "      <th>668753</th>\n",
       "      <td>23</td>\n",
       "      <td>DAIRY</td>\n",
       "      <td>2014-01-07</td>\n",
       "    </tr>\n",
       "    <tr>\n",
       "      <th>1267004</th>\n",
       "      <td>1</td>\n",
       "      <td>BEAUTY</td>\n",
       "      <td>2014-12-05</td>\n",
       "    </tr>\n",
       "    <tr>\n",
       "      <th>997442</th>\n",
       "      <td>45</td>\n",
       "      <td>HOME APPLIANCES</td>\n",
       "      <td>2014-07-06</td>\n",
       "    </tr>\n",
       "    <tr>\n",
       "      <th>873596</th>\n",
       "      <td>20</td>\n",
       "      <td>LAWN AND GARDEN</td>\n",
       "      <td>2014-05-02</td>\n",
       "    </tr>\n",
       "    <tr>\n",
       "      <th>756145</th>\n",
       "      <td>25</td>\n",
       "      <td>HOME AND KITCHEN II</td>\n",
       "      <td>2014-02-25</td>\n",
       "    </tr>\n",
       "    <tr>\n",
       "      <th>...</th>\n",
       "      <td>...</td>\n",
       "      <td>...</td>\n",
       "      <td>...</td>\n",
       "    </tr>\n",
       "    <tr>\n",
       "      <th>1286174</th>\n",
       "      <td>46</td>\n",
       "      <td>SEAFOOD</td>\n",
       "      <td>2014-12-15</td>\n",
       "    </tr>\n",
       "    <tr>\n",
       "      <th>1331683</th>\n",
       "      <td>24</td>\n",
       "      <td>BABY CARE</td>\n",
       "      <td>2015-01-09</td>\n",
       "    </tr>\n",
       "    <tr>\n",
       "      <th>563250</th>\n",
       "      <td>13</td>\n",
       "      <td>CELEBRATION</td>\n",
       "      <td>2013-11-09</td>\n",
       "    </tr>\n",
       "    <tr>\n",
       "      <th>1541853</th>\n",
       "      <td>20</td>\n",
       "      <td>PLAYERS AND ELECTRONICS</td>\n",
       "      <td>2015-05-07</td>\n",
       "    </tr>\n",
       "    <tr>\n",
       "      <th>2551270</th>\n",
       "      <td>43</td>\n",
       "      <td>CLEANING</td>\n",
       "      <td>2016-11-11</td>\n",
       "    </tr>\n",
       "  </tbody>\n",
       "</table>\n",
       "<p>1000 rows × 3 columns</p>\n",
       "</div>"
      ],
      "text/plain": [
       "         store_nbr                   family event_timestamp\n",
       "668753          23                    DAIRY      2014-01-07\n",
       "1267004          1                   BEAUTY      2014-12-05\n",
       "997442          45          HOME APPLIANCES      2014-07-06\n",
       "873596          20          LAWN AND GARDEN      2014-05-02\n",
       "756145          25      HOME AND KITCHEN II      2014-02-25\n",
       "...            ...                      ...             ...\n",
       "1286174         46                  SEAFOOD      2014-12-15\n",
       "1331683         24                BABY CARE      2015-01-09\n",
       "563250          13              CELEBRATION      2013-11-09\n",
       "1541853         20  PLAYERS AND ELECTRONICS      2015-05-07\n",
       "2551270         43                 CLEANING      2016-11-11\n",
       "\n",
       "[1000 rows x 3 columns]"
      ]
     },
     "execution_count": 16,
     "metadata": {},
     "output_type": "execute_result"
    }
   ],
   "source": [
    "df_sample = df[[\"store_nbr\", \"family\", \"date\"]].sample(n=1000, random_state=42)\n",
    "df_sample = df_sample.rename(columns={\"date\": \"event_timestamp\"})\n",
    "df_sample"
   ]
  },
  {
   "cell_type": "code",
   "execution_count": 46,
   "id": "8114bd95",
   "metadata": {},
   "outputs": [
    {
     "data": {
      "text/plain": [
       "(1000, 3)"
      ]
     },
     "execution_count": 46,
     "metadata": {},
     "output_type": "execute_result"
    }
   ],
   "source": [
    "df_sample.shape"
   ]
  },
  {
   "cell_type": "code",
   "execution_count": 17,
   "id": "d56615e3",
   "metadata": {},
   "outputs": [
    {
     "data": {
      "text/html": [
       "<div>\n",
       "<style scoped>\n",
       "    .dataframe tbody tr th:only-of-type {\n",
       "        vertical-align: middle;\n",
       "    }\n",
       "\n",
       "    .dataframe tbody tr th {\n",
       "        vertical-align: top;\n",
       "    }\n",
       "\n",
       "    .dataframe thead th {\n",
       "        text-align: right;\n",
       "    }\n",
       "</style>\n",
       "<table border=\"1\" class=\"dataframe\">\n",
       "  <thead>\n",
       "    <tr style=\"text-align: right;\">\n",
       "      <th></th>\n",
       "      <th>store_nbr</th>\n",
       "      <th>family</th>\n",
       "      <th>event_timestamp</th>\n",
       "      <th>sales</th>\n",
       "      <th>onpromotion</th>\n",
       "      <th>transactions</th>\n",
       "      <th>dcoilwtico</th>\n",
       "      <th>type_y</th>\n",
       "    </tr>\n",
       "  </thead>\n",
       "  <tbody>\n",
       "    <tr>\n",
       "      <th>0</th>\n",
       "      <td>35</td>\n",
       "      <td>LADIESWEAR</td>\n",
       "      <td>2013-01-05 00:00:00+00:00</td>\n",
       "      <td>0.00000</td>\n",
       "      <td>0</td>\n",
       "      <td>723.0</td>\n",
       "      <td>NaN</td>\n",
       "      <td>Work Day</td>\n",
       "    </tr>\n",
       "    <tr>\n",
       "      <th>1</th>\n",
       "      <td>45</td>\n",
       "      <td>GROCERY I</td>\n",
       "      <td>2013-01-07 00:00:00+00:00</td>\n",
       "      <td>6629.00000</td>\n",
       "      <td>0</td>\n",
       "      <td>3339.0</td>\n",
       "      <td>93.20</td>\n",
       "      <td>None</td>\n",
       "    </tr>\n",
       "    <tr>\n",
       "      <th>2</th>\n",
       "      <td>35</td>\n",
       "      <td>PLAYERS AND ELECTRONICS</td>\n",
       "      <td>2013-01-07 00:00:00+00:00</td>\n",
       "      <td>0.00000</td>\n",
       "      <td>0</td>\n",
       "      <td>568.0</td>\n",
       "      <td>93.20</td>\n",
       "      <td>None</td>\n",
       "    </tr>\n",
       "    <tr>\n",
       "      <th>3</th>\n",
       "      <td>27</td>\n",
       "      <td>PREPARED FOODS</td>\n",
       "      <td>2013-01-13 00:00:00+00:00</td>\n",
       "      <td>167.54001</td>\n",
       "      <td>0</td>\n",
       "      <td>1575.0</td>\n",
       "      <td>NaN</td>\n",
       "      <td>None</td>\n",
       "    </tr>\n",
       "    <tr>\n",
       "      <th>4</th>\n",
       "      <td>2</td>\n",
       "      <td>HARDWARE</td>\n",
       "      <td>2013-01-13 00:00:00+00:00</td>\n",
       "      <td>0.00000</td>\n",
       "      <td>0</td>\n",
       "      <td>1988.0</td>\n",
       "      <td>NaN</td>\n",
       "      <td>None</td>\n",
       "    </tr>\n",
       "    <tr>\n",
       "      <th>...</th>\n",
       "      <td>...</td>\n",
       "      <td>...</td>\n",
       "      <td>...</td>\n",
       "      <td>...</td>\n",
       "      <td>...</td>\n",
       "      <td>...</td>\n",
       "      <td>...</td>\n",
       "      <td>...</td>\n",
       "    </tr>\n",
       "    <tr>\n",
       "      <th>995</th>\n",
       "      <td>32</td>\n",
       "      <td>HOME CARE</td>\n",
       "      <td>2017-07-25 00:00:00+00:00</td>\n",
       "      <td>69.00000</td>\n",
       "      <td>3</td>\n",
       "      <td>497.0</td>\n",
       "      <td>47.77</td>\n",
       "      <td>Additional</td>\n",
       "    </tr>\n",
       "    <tr>\n",
       "      <th>996</th>\n",
       "      <td>21</td>\n",
       "      <td>LAWN AND GARDEN</td>\n",
       "      <td>2017-08-07 00:00:00+00:00</td>\n",
       "      <td>4.00000</td>\n",
       "      <td>0</td>\n",
       "      <td>1052.0</td>\n",
       "      <td>49.37</td>\n",
       "      <td>None</td>\n",
       "    </tr>\n",
       "    <tr>\n",
       "      <th>997</th>\n",
       "      <td>18</td>\n",
       "      <td>DELI</td>\n",
       "      <td>2017-08-08 00:00:00+00:00</td>\n",
       "      <td>138.52400</td>\n",
       "      <td>5</td>\n",
       "      <td>1337.0</td>\n",
       "      <td>49.07</td>\n",
       "      <td>None</td>\n",
       "    </tr>\n",
       "    <tr>\n",
       "      <th>998</th>\n",
       "      <td>1</td>\n",
       "      <td>BABY CARE</td>\n",
       "      <td>2017-08-09 00:00:00+00:00</td>\n",
       "      <td>0.00000</td>\n",
       "      <td>0</td>\n",
       "      <td>1766.0</td>\n",
       "      <td>49.59</td>\n",
       "      <td>None</td>\n",
       "    </tr>\n",
       "    <tr>\n",
       "      <th>999</th>\n",
       "      <td>46</td>\n",
       "      <td>GROCERY I</td>\n",
       "      <td>2017-08-15 00:00:00+00:00</td>\n",
       "      <td>7222.00000</td>\n",
       "      <td>37</td>\n",
       "      <td>3197.0</td>\n",
       "      <td>47.57</td>\n",
       "      <td>Holiday</td>\n",
       "    </tr>\n",
       "  </tbody>\n",
       "</table>\n",
       "<p>1000 rows × 8 columns</p>\n",
       "</div>"
      ],
      "text/plain": [
       "     store_nbr                   family           event_timestamp       sales  \\\n",
       "0           35               LADIESWEAR 2013-01-05 00:00:00+00:00     0.00000   \n",
       "1           45                GROCERY I 2013-01-07 00:00:00+00:00  6629.00000   \n",
       "2           35  PLAYERS AND ELECTRONICS 2013-01-07 00:00:00+00:00     0.00000   \n",
       "3           27           PREPARED FOODS 2013-01-13 00:00:00+00:00   167.54001   \n",
       "4            2                 HARDWARE 2013-01-13 00:00:00+00:00     0.00000   \n",
       "..         ...                      ...                       ...         ...   \n",
       "995         32                HOME CARE 2017-07-25 00:00:00+00:00    69.00000   \n",
       "996         21          LAWN AND GARDEN 2017-08-07 00:00:00+00:00     4.00000   \n",
       "997         18                     DELI 2017-08-08 00:00:00+00:00   138.52400   \n",
       "998          1                BABY CARE 2017-08-09 00:00:00+00:00     0.00000   \n",
       "999         46                GROCERY I 2017-08-15 00:00:00+00:00  7222.00000   \n",
       "\n",
       "     onpromotion  transactions  dcoilwtico      type_y  \n",
       "0              0         723.0         NaN    Work Day  \n",
       "1              0        3339.0       93.20        None  \n",
       "2              0         568.0       93.20        None  \n",
       "3              0        1575.0         NaN        None  \n",
       "4              0        1988.0         NaN        None  \n",
       "..           ...           ...         ...         ...  \n",
       "995            3         497.0       47.77  Additional  \n",
       "996            0        1052.0       49.37        None  \n",
       "997            5        1337.0       49.07        None  \n",
       "998            0        1766.0       49.59        None  \n",
       "999           37        3197.0       47.57     Holiday  \n",
       "\n",
       "[1000 rows x 8 columns]"
      ]
     },
     "execution_count": 17,
     "metadata": {},
     "output_type": "execute_result"
    }
   ],
   "source": [
    "fs.get_historical_features(\n",
    "    entity_df=df_sample,\n",
    "    features=sales_store_service,\n",
    "    # entity_df=df[[\"store_nbr\", \"family\", \"date\"]],\n",
    "    # features=[\"sales_store_view:sales\", \"sales_store_view:onpromotion\", \"sales_store_view:transactions\", \"sales_store_view:dcoilwtico\", \"sales_store_view:type_y\"]\n",
    ").to_df()"
   ]
  },
  {
   "cell_type": "markdown",
   "id": "65436a11",
   "metadata": {},
   "source": [
    "# Consumir features OnDemand"
   ]
  },
  {
   "cell_type": "code",
   "execution_count": 33,
   "id": "d69472ed",
   "metadata": {},
   "outputs": [],
   "source": [
    "entity_rows = [\n",
    "    {\"store_nbr\": 1, \"family\": \"GROCERY I\", \"date\": \"2017-08-15\", \"sales\": 120, \"onpromotion\": 5},\n",
    "    {\"store_nbr\": 2, \"family\": \"BEVERAGES\", \"date\": \"2025-08-17\", \"sales\": 80, \"onpromotion\": 3},\n",
    "]"
   ]
  },
  {
   "cell_type": "code",
   "execution_count": 34,
   "id": "8654aacc",
   "metadata": {},
   "outputs": [
    {
     "data": {
      "text/html": [
       "<div>\n",
       "<style scoped>\n",
       "    .dataframe tbody tr th:only-of-type {\n",
       "        vertical-align: middle;\n",
       "    }\n",
       "\n",
       "    .dataframe tbody tr th {\n",
       "        vertical-align: top;\n",
       "    }\n",
       "\n",
       "    .dataframe thead th {\n",
       "        text-align: right;\n",
       "    }\n",
       "</style>\n",
       "<table border=\"1\" class=\"dataframe\">\n",
       "  <thead>\n",
       "    <tr style=\"text-align: right;\">\n",
       "      <th></th>\n",
       "      <th>store_nbr</th>\n",
       "      <th>family</th>\n",
       "      <th>day_of_week</th>\n",
       "      <th>month</th>\n",
       "      <th>is_weekend</th>\n",
       "      <th>sales_x_promo</th>\n",
       "    </tr>\n",
       "  </thead>\n",
       "  <tbody>\n",
       "    <tr>\n",
       "      <th>0</th>\n",
       "      <td>1</td>\n",
       "      <td>GROCERY I</td>\n",
       "      <td>1</td>\n",
       "      <td>8</td>\n",
       "      <td>0</td>\n",
       "      <td>600.0</td>\n",
       "    </tr>\n",
       "    <tr>\n",
       "      <th>1</th>\n",
       "      <td>2</td>\n",
       "      <td>BEVERAGES</td>\n",
       "      <td>6</td>\n",
       "      <td>8</td>\n",
       "      <td>1</td>\n",
       "      <td>240.0</td>\n",
       "    </tr>\n",
       "  </tbody>\n",
       "</table>\n",
       "</div>"
      ],
      "text/plain": [
       "   store_nbr     family  day_of_week  month  is_weekend  sales_x_promo\n",
       "0          1  GROCERY I            1      8           0          600.0\n",
       "1          2  BEVERAGES            6      8           1          240.0"
      ]
     },
     "execution_count": 34,
     "metadata": {},
     "output_type": "execute_result"
    }
   ],
   "source": [
    "fs.get_online_features(\n",
    "    entity_rows=entity_rows,\n",
    "    features=sales_time_service,\n",
    ").to_df()"
   ]
  }
 ],
 "metadata": {
  "kernelspec": {
   "display_name": "ml-prediction-segmentation",
   "language": "python",
   "name": "python3"
  },
  "language_info": {
   "codemirror_mode": {
    "name": "ipython",
    "version": 3
   },
   "file_extension": ".py",
   "mimetype": "text/x-python",
   "name": "python",
   "nbconvert_exporter": "python",
   "pygments_lexer": "ipython3",
   "version": "3.12.1"
  }
 },
 "nbformat": 4,
 "nbformat_minor": 5
}
