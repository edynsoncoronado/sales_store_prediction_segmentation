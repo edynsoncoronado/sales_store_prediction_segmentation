{
 "cells": [
  {
   "cell_type": "code",
   "execution_count": 1,
   "id": "64438fee-06f0-4235-bce0-c1be043c9054",
   "metadata": {},
   "outputs": [
    {
     "name": "stdout",
     "output_type": "stream",
     "text": [
      "\u001b[32m2025-08-18 11:24:18.944\u001b[0m | \u001b[1mINFO    \u001b[0m | \u001b[36mml_prediction_segmentation.config\u001b[0m:\u001b[36m<module>\u001b[0m:\u001b[36m11\u001b[0m - \u001b[1mPROJ_ROOT path is: /home/edyn/Documentos/obsidian-doc/Projects/MachineLearningEngineer/Curso2/Proyecto/Repo/sales_store_prediction_segmentation\u001b[0m\n",
      "2025-08-18 11:24:18,952 - INFO - 📥 Cargando datasets desde /home/edyn/Documentos/obsidian-doc/Projects/MachineLearningEngineer/Curso2/Proyecto/Repo/sales_store_prediction_segmentation/data/raw\n",
      "2025-08-18 11:24:20,188 - INFO - ✅ Datasets cargados correctamente\n",
      "2025-08-18 11:24:20,188 - INFO - 🧹 Limpiando datos y uniendo tablas...\n",
      "/home/edyn/Documentos/obsidian-doc/Projects/MachineLearningEngineer/Curso2/Proyecto/Repo/sales_store_prediction_segmentation/notebooks/../ml_prediction_segmentation/preprocess.py:50: FutureWarning: A value is trying to be set on a copy of a DataFrame or Series through chained assignment using an inplace method.\n",
      "The behavior will change in pandas 3.0. This inplace method will never work because the intermediate object on which we are setting values always behaves as a copy.\n",
      "\n",
      "For example, when doing 'df[col].method(value, inplace=True)', try using 'df.method({col: value}, inplace=True)' or df[col] = df[col].method(value) instead, to perform the operation inplace on the original object.\n",
      "\n",
      "\n",
      "  oil[\"dcoilwtico\"].fillna(method=\"ffill\", inplace=True)\n",
      "/home/edyn/Documentos/obsidian-doc/Projects/MachineLearningEngineer/Curso2/Proyecto/Repo/sales_store_prediction_segmentation/notebooks/../ml_prediction_segmentation/preprocess.py:50: FutureWarning: Series.fillna with 'method' is deprecated and will raise in a future version. Use obj.ffill() or obj.bfill() instead.\n",
      "  oil[\"dcoilwtico\"].fillna(method=\"ffill\", inplace=True)\n",
      "2025-08-18 11:24:21,666 - INFO - ✅ Dataset integrado, tamaño final: (3054348, 17)\n",
      "2025-08-18 11:24:23,521 - INFO - 💾 Dataset limpio guardado en /home/edyn/Documentos/obsidian-doc/Projects/MachineLearningEngineer/Curso2/Proyecto/Repo/sales_store_prediction_segmentation/data/processed/favorita_clean.parquet\n"
     ]
    }
   ],
   "source": [
    "! uv run python ../ml_prediction_segmentation/preprocess.py"
   ]
  },
  {
   "cell_type": "markdown",
   "id": "7455af65",
   "metadata": {},
   "source": [
    "# Train"
   ]
  },
  {
   "cell_type": "code",
   "execution_count": 17,
   "id": "831d68d9",
   "metadata": {},
   "outputs": [
    {
     "name": "stdout",
     "output_type": "stream",
     "text": [
      "\u001b[32m2025-08-21 14:43:14.384\u001b[0m | \u001b[1mINFO    \u001b[0m | \u001b[36mml_prediction_segmentation.config\u001b[0m:\u001b[36m<module>\u001b[0m:\u001b[36m11\u001b[0m - \u001b[1mPROJ_ROOT path is: /home/edyn/Documentos/obsidian-doc/Projects/MachineLearningEngineer/Curso2/Proyecto/Repo/sales_store_prediction_segmentation\u001b[0m\n",
      "2025-08-21 14:43:14,389 - INFO - Entrenamiento de modelos iniciado...\n",
      "2025-08-21 14:43:15,174 - INFO - Registry cache expired, so refreshing\n",
      "2025-08-21 14:43:15,175 - INFO - Registry cache expired, so refreshing\n",
      "2025-08-21 14:43:15,176 - INFO - Registry cache expired, so refreshing\n",
      "2025-08-21 14:43:15,177 - INFO - Registry cache expired, so refreshing\n",
      "2025-08-21 14:43:15,178 - INFO - Registry cache expired, so refreshing\n",
      "Using date as the event timestamp. To specify a column explicitly, please name it event_timestamp.\n",
      "2025-08-21 14:43:15,181 - INFO - Registry cache expired, so refreshing\n",
      "2025-08-21 14:43:32,651 - INFO - ✅ Dataset de entrenamiento obtenido de Feast con shape (1000, 8)\n",
      "2025-08-21 14:43:32,780 - INFO - R2 Score=0.8869\n",
      "2025-08-21 14:43:32,780 - INFO - Entrenamiento de modelos completado.\n"
     ]
    }
   ],
   "source": [
    "# ! uv run python ../ml_prediction_segmentation/modeling/train.py --features-path ../data/processed/features.csv --target-path ../data/processed/target.csv --model-path ../models/xgboost_model.pkl\n",
    "! uv run python ../ml_prediction_segmentation/modeling/train.py"
   ]
  },
  {
   "cell_type": "code",
   "execution_count": 8,
   "id": "5f5a6e0d",
   "metadata": {},
   "outputs": [
    {
     "name": "stdout",
     "output_type": "stream",
     "text": [
      "\u001b[32m2025-08-22 12:07:03.875\u001b[0m | \u001b[1mINFO    \u001b[0m | \u001b[36mml_prediction_segmentation.config\u001b[0m:\u001b[36m<module>\u001b[0m:\u001b[36m11\u001b[0m - \u001b[1mPROJ_ROOT path is: /home/edyn/Documentos/obsidian-doc/Projects/MachineLearningEngineer/Curso2/Proyecto/Repo/sales_store_prediction_segmentation\u001b[0m\n",
      "2025-08-22 12:07:03,880 - INFO - Entrenamiento de modelos iniciado...\n",
      "2025-08-22 12:07:04,633 - INFO - Registry cache expired, so refreshing\n",
      "2025-08-22 12:07:04,635 - INFO - Registry cache expired, so refreshing\n",
      "2025-08-22 12:07:04,636 - INFO - Registry cache expired, so refreshing\n",
      "2025-08-22 12:07:04,637 - INFO - Registry cache expired, so refreshing\n",
      "2025-08-22 12:07:04,638 - INFO - Registry cache expired, so refreshing\n",
      "Using date as the event timestamp. To specify a column explicitly, please name it event_timestamp.\n",
      "2025-08-22 12:07:04,641 - INFO - Registry cache expired, so refreshing\n",
      "2025-08-22 12:07:22,697 - INFO - ✅ Dataset de entrenamiento obtenido de Feast con shape (1000, 8)\n",
      "2025-08-22 12:07:23,073 - INFO - HTTP Request: GET https://dagshub.com/api/v1/user \"HTTP/1.1 200 OK\"\n",
      "Accessing as edynsoncoronado\n",
      "2025-08-22 12:07:23,078 - INFO - Accessing as edynsoncoronado\n",
      "2025-08-22 12:07:23,510 - INFO - HTTP Request: GET https://dagshub.com/api/v1/repos/edynsoncoronado/ml_sales_store_prediction_segmentation \"HTTP/1.1 200 OK\"\n",
      "2025-08-22 12:07:23,901 - INFO - HTTP Request: GET https://dagshub.com/api/v1/user \"HTTP/1.1 200 OK\"\n",
      "Initialized MLflow to track repo \n",
      "\u001b[32m\"edynsoncoronado/ml_sales_store_prediction_segmentation\"\u001b[0m\n",
      "2025-08-22 12:07:23,902 - INFO - Initialized MLflow to track repo \"edynsoncoronado/ml_sales_store_prediction_segmentation\"\n",
      "Repository edynsoncoronado/ml_sales_store_prediction_segmentation initialized!\n",
      "2025-08-22 12:07:23,903 - INFO - Repository edynsoncoronado/ml_sales_store_prediction_segmentation initialized!\n",
      "2025/08/22 12:07:24 INFO mlflow.tracking.fluent: Autologging successfully enabled for sklearn.\n",
      "2025/08/22 12:07:24 INFO mlflow.tracking.fluent: Autologging successfully enabled for xgboost.\n",
      "/home/edyn/Documentos/obsidian-doc/Projects/MachineLearningEngineer/Curso2/Proyecto/Repo/sales_store_prediction_segmentation/.venv/lib/python3.12/site-packages/mlflow/store/tracking/rest_store.py:262: DeprecationWarning: label() is deprecated. Use is_required() or is_repeated() instead.\n",
      "  req_body = message_to_json(\n",
      "2025-08-22 12:07:25,028 - INFO - 🤖🧠👾 Entrenando modelo: BaggingRegressor_10\n",
      "2025/08/22 12:07:25 WARNING mlflow.utils.autologging_utils: MLflow autologging encountered a warning: \"/home/edyn/Documentos/obsidian-doc/Projects/MachineLearningEngineer/Curso2/Proyecto/Repo/sales_store_prediction_segmentation/.venv/lib/python3.12/site-packages/mlflow/types/utils.py:452: UserWarning: Hint: Inferred schema contains integer column(s). Integer columns in Python cannot represent missing values. If your input data contains missing values at inference time, it will be encoded as floats and will cause a schema enforcement error. The best way to avoid this problem is to infer the model schema based on a realistic data sample (training dataset) that includes missing values. Alternatively, you can declare integer columns as doubles (float64) whenever these columns may have missing values. See `Handling Integers With Missing Values <https://www.mlflow.org/docs/latest/models.html#handling-integers-with-missing-values>`_ for more details.\"\n",
      "2025/08/22 12:07:25 WARNING mlflow.utils.autologging_utils: MLflow autologging encountered a warning: \"/home/edyn/Documentos/obsidian-doc/Projects/MachineLearningEngineer/Curso2/Proyecto/Repo/sales_store_prediction_segmentation/.venv/lib/python3.12/site-packages/mlflow/store/tracking/rest_store.py:771: DeprecationWarning: label() is deprecated. Use is_required() or is_repeated() instead.\"\n",
      "2025/08/22 12:07:25 WARNING mlflow.utils.autologging_utils: MLflow autologging encountered a warning: \"/home/edyn/Documentos/obsidian-doc/Projects/MachineLearningEngineer/Curso2/Proyecto/Repo/sales_store_prediction_segmentation/.venv/lib/python3.12/site-packages/mlflow/store/tracking/rest_store.py:771: DeprecationWarning: label() is deprecated. Use is_required() or is_repeated() instead.\"\n",
      "2025/08/22 12:07:25 WARNING mlflow.utils.autologging_utils: MLflow autologging encountered a warning: \"/home/edyn/Documentos/obsidian-doc/Projects/MachineLearningEngineer/Curso2/Proyecto/Repo/sales_store_prediction_segmentation/.venv/lib/python3.12/site-packages/mlflow/types/utils.py:452: UserWarning: Hint: Inferred schema contains integer column(s). Integer columns in Python cannot represent missing values. If your input data contains missing values at inference time, it will be encoded as floats and will cause a schema enforcement error. The best way to avoid this problem is to infer the model schema based on a realistic data sample (training dataset) that includes missing values. Alternatively, you can declare integer columns as doubles (float64) whenever these columns may have missing values. See `Handling Integers With Missing Values <https://www.mlflow.org/docs/latest/models.html#handling-integers-with-missing-values>`_ for more details.\"\n",
      "2025/08/22 12:07:25 WARNING mlflow.utils.autologging_utils: MLflow autologging encountered a warning: \"/home/edyn/Documentos/obsidian-doc/Projects/MachineLearningEngineer/Curso2/Proyecto/Repo/sales_store_prediction_segmentation/.venv/lib/python3.12/site-packages/mlflow/store/tracking/rest_store.py:1018: DeprecationWarning: label() is deprecated. Use is_required() or is_repeated() instead.\"\n",
      "2025/08/22 12:07:25 WARNING mlflow.utils.autologging_utils: MLflow autologging encountered a warning: \"/home/edyn/Documentos/obsidian-doc/Projects/MachineLearningEngineer/Curso2/Proyecto/Repo/sales_store_prediction_segmentation/.venv/lib/python3.12/site-packages/mlflow/utils/proto_json_utils.py:121: DeprecationWarning: label() is deprecated. Use is_required() or is_repeated() instead.\"\n",
      "2025/08/22 12:07:25 WARNING mlflow.utils.autologging_utils: Encountered unexpected error during sklearn autologging: INTERNAL_ERROR: Response: {'error': 'unsupported endpoint, please contact support@dagshub.com'}\n",
      "2025-08-22 12:07:25,967 - INFO - R2 Score = 0.8869 | RMSE = 342.0078 | MAPE = 38354010010174984.0000\n",
      "/home/edyn/Documentos/obsidian-doc/Projects/MachineLearningEngineer/Curso2/Proyecto/Repo/sales_store_prediction_segmentation/.venv/lib/python3.12/site-packages/mlflow/store/tracking/rest_store.py:771: DeprecationWarning: label() is deprecated. Use is_required() or is_repeated() instead.\n",
      "  req_body = message_to_json(\n",
      "/home/edyn/Documentos/obsidian-doc/Projects/MachineLearningEngineer/Curso2/Proyecto/Repo/sales_store_prediction_segmentation/.venv/lib/python3.12/site-packages/mlflow/utils/proto_json_utils.py:121: DeprecationWarning: label() is deprecated. Use is_required() or is_repeated() instead.\n",
      "  json_dict_with_int64_fields_only = _mark_int64_fields(message)\n",
      "2025-08-22 12:07:27,178 - INFO - Guardando modelo en: /home/edyn/Documentos/obsidian-doc/Projects/MachineLearningEngineer/Curso2/Proyecto/Repo/sales_store_prediction_segmentation/models/BaggingRegressor_10.pkl\n",
      "🏃 View run BaggingRegressor_10 at: https://dagshub.com/edynsoncoronado/sales_store_prediction_segmentation.mlflow/#/experiments/0/runs/3e4e8f9f84d9449199661425100c0d8b\n",
      "🧪 View experiment at: https://dagshub.com/edynsoncoronado/sales_store_prediction_segmentation.mlflow/#/experiments/0\n",
      "2025-08-22 12:07:30,147 - INFO - 🤖🧠👾 Entrenando modelo: XGBRegressor_100\n",
      "2025/08/22 12:07:30 WARNING mlflow.utils.autologging_utils: MLflow autologging encountered a warning: \"/home/edyn/Documentos/obsidian-doc/Projects/MachineLearningEngineer/Curso2/Proyecto/Repo/sales_store_prediction_segmentation/.venv/lib/python3.12/site-packages/mlflow/types/utils.py:452: UserWarning: Hint: Inferred schema contains integer column(s). Integer columns in Python cannot represent missing values. If your input data contains missing values at inference time, it will be encoded as floats and will cause a schema enforcement error. The best way to avoid this problem is to infer the model schema based on a realistic data sample (training dataset) that includes missing values. Alternatively, you can declare integer columns as doubles (float64) whenever these columns may have missing values. See `Handling Integers With Missing Values <https://www.mlflow.org/docs/latest/models.html#handling-integers-with-missing-values>`_ for more details.\"\n",
      "2025/08/22 12:07:30 WARNING mlflow.utils.autologging_utils: MLflow autologging encountered a warning: \"/home/edyn/Documentos/obsidian-doc/Projects/MachineLearningEngineer/Curso2/Proyecto/Repo/sales_store_prediction_segmentation/.venv/lib/python3.12/site-packages/mlflow/store/tracking/rest_store.py:771: DeprecationWarning: label() is deprecated. Use is_required() or is_repeated() instead.\"\n",
      "2025/08/22 12:07:30 WARNING mlflow.utils.autologging_utils: MLflow autologging encountered a warning: \"/home/edyn/Documentos/obsidian-doc/Projects/MachineLearningEngineer/Curso2/Proyecto/Repo/sales_store_prediction_segmentation/.venv/lib/python3.12/site-packages/mlflow/store/tracking/rest_store.py:771: DeprecationWarning: label() is deprecated. Use is_required() or is_repeated() instead.\"\n",
      "2025/08/22 12:07:30 WARNING mlflow.utils.autologging_utils: MLflow autologging encountered a warning: \"/home/edyn/Documentos/obsidian-doc/Projects/MachineLearningEngineer/Curso2/Proyecto/Repo/sales_store_prediction_segmentation/.venv/lib/python3.12/site-packages/mlflow/store/tracking/rest_store.py:1018: DeprecationWarning: label() is deprecated. Use is_required() or is_repeated() instead.\"\n",
      "2025/08/22 12:07:30 WARNING mlflow.utils.autologging_utils: MLflow autologging encountered a warning: \"/home/edyn/Documentos/obsidian-doc/Projects/MachineLearningEngineer/Curso2/Proyecto/Repo/sales_store_prediction_segmentation/.venv/lib/python3.12/site-packages/mlflow/utils/proto_json_utils.py:121: DeprecationWarning: label() is deprecated. Use is_required() or is_repeated() instead.\"\n",
      "2025/08/22 12:07:30 WARNING mlflow.utils.autologging_utils: MLflow autologging encountered a warning: \"/home/edyn/Documentos/obsidian-doc/Projects/MachineLearningEngineer/Curso2/Proyecto/Repo/sales_store_prediction_segmentation/.venv/lib/python3.12/site-packages/mlflow/types/utils.py:452: UserWarning: Hint: Inferred schema contains integer column(s). Integer columns in Python cannot represent missing values. If your input data contains missing values at inference time, it will be encoded as floats and will cause a schema enforcement error. The best way to avoid this problem is to infer the model schema based on a realistic data sample (training dataset) that includes missing values. Alternatively, you can declare integer columns as doubles (float64) whenever these columns may have missing values. See `Handling Integers With Missing Values <https://www.mlflow.org/docs/latest/models.html#handling-integers-with-missing-values>`_ for more details.\"\n",
      "2025/08/22 12:07:31 WARNING mlflow.utils.autologging_utils: MLflow autologging encountered a warning: \"/home/edyn/Documentos/obsidian-doc/Projects/MachineLearningEngineer/Curso2/Proyecto/Repo/sales_store_prediction_segmentation/.venv/lib/python3.12/site-packages/mlflow/store/tracking/rest_store.py:813: DeprecationWarning: label() is deprecated. Use is_required() or is_repeated() instead.\"\n",
      "2025/08/22 12:07:32 WARNING mlflow.utils.autologging_utils: Encountered unexpected error during sklearn autologging: INTERNAL_ERROR: Response: {'error': 'unsupported endpoint, please contact support@dagshub.com'}\n",
      "2025-08-22 12:07:32,448 - INFO - R2 Score = 0.8289 | RMSE = 420.6431 | MAPE = 39320049467145584.0000\n",
      "/home/edyn/Documentos/obsidian-doc/Projects/MachineLearningEngineer/Curso2/Proyecto/Repo/sales_store_prediction_segmentation/.venv/lib/python3.12/site-packages/mlflow/store/tracking/rest_store.py:771: DeprecationWarning: label() is deprecated. Use is_required() or is_repeated() instead.\n",
      "  req_body = message_to_json(\n",
      "/home/edyn/Documentos/obsidian-doc/Projects/MachineLearningEngineer/Curso2/Proyecto/Repo/sales_store_prediction_segmentation/.venv/lib/python3.12/site-packages/mlflow/utils/proto_json_utils.py:121: DeprecationWarning: label() is deprecated. Use is_required() or is_repeated() instead.\n",
      "  json_dict_with_int64_fields_only = _mark_int64_fields(message)\n",
      "2025-08-22 12:07:35,472 - INFO - Guardando modelo en: /home/edyn/Documentos/obsidian-doc/Projects/MachineLearningEngineer/Curso2/Proyecto/Repo/sales_store_prediction_segmentation/models/XGBRegressor_100.pkl\n",
      "🏃 View run XGBRegressor_100 at: https://dagshub.com/edynsoncoronado/sales_store_prediction_segmentation.mlflow/#/experiments/0/runs/8f88481b303945809d346dc41cad0d95\n",
      "🧪 View experiment at: https://dagshub.com/edynsoncoronado/sales_store_prediction_segmentation.mlflow/#/experiments/0\n",
      "2025-08-22 12:07:41,425 - INFO - Entrenamiento de modelos completado.\n"
     ]
    }
   ],
   "source": [
    "! uv run python ../ml_prediction_segmentation/modeling/train.py"
   ]
  },
  {
   "cell_type": "code",
   "execution_count": 4,
   "id": "4e497efe",
   "metadata": {},
   "outputs": [
    {
     "name": "stdout",
     "output_type": "stream",
     "text": [
      "\u001b[32m2025-08-22 14:28:40.768\u001b[0m | \u001b[1mINFO    \u001b[0m | \u001b[36mml_prediction_segmentation.config\u001b[0m:\u001b[36m<module>\u001b[0m:\u001b[36m11\u001b[0m - \u001b[1mPROJ_ROOT path is: /home/edyn/Documentos/obsidian-doc/Projects/MachineLearningEngineer/Curso2/Proyecto/Repo/sales_store_prediction_segmentation\u001b[0m\n",
      "2025-08-22 14:28:40,772 - INFO - Entrenamiento de modelos iniciado...\n",
      "2025-08-22 14:28:41,491 - INFO - Registry cache expired, so refreshing\n",
      "2025-08-22 14:28:41,493 - INFO - Registry cache expired, so refreshing\n",
      "2025-08-22 14:28:41,494 - INFO - Registry cache expired, so refreshing\n",
      "2025-08-22 14:28:41,494 - INFO - Registry cache expired, so refreshing\n",
      "2025-08-22 14:28:41,495 - INFO - Registry cache expired, so refreshing\n",
      "Using date as the event timestamp. To specify a column explicitly, please name it event_timestamp.\n",
      "2025-08-22 14:28:41,499 - INFO - Registry cache expired, so refreshing\n",
      "2025-08-22 14:28:58,099 - INFO - ✅ Dataset de entrenamiento obtenido de Feast con shape (1000, 8)\n",
      "2025-08-22 14:28:58,564 - INFO - HTTP Request: GET https://dagshub.com/api/v1/user \"HTTP/1.1 200 OK\"\n",
      "Accessing as edynsoncoronado\n",
      "2025-08-22 14:28:58,568 - INFO - Accessing as edynsoncoronado\n",
      "2025-08-22 14:28:59,073 - INFO - HTTP Request: GET https://dagshub.com/api/v1/repos/edynsoncoronado/ml_sales_store_prediction_segmentation \"HTTP/1.1 200 OK\"\n",
      "2025-08-22 14:28:59,483 - INFO - HTTP Request: GET https://dagshub.com/api/v1/user \"HTTP/1.1 200 OK\"\n",
      "Initialized MLflow to track repo \n",
      "\u001b[32m\"edynsoncoronado/ml_sales_store_prediction_segmentation\"\u001b[0m\n",
      "2025-08-22 14:28:59,485 - INFO - Initialized MLflow to track repo \"edynsoncoronado/ml_sales_store_prediction_segmentation\"\n",
      "Repository edynsoncoronado/ml_sales_store_prediction_segmentation initialized!\n",
      "2025-08-22 14:28:59,485 - INFO - Repository edynsoncoronado/ml_sales_store_prediction_segmentation initialized!\n",
      "2025/08/22 14:29:00 INFO mlflow.tracking.fluent: Autologging successfully enabled for sklearn.\n",
      "2025/08/22 14:29:00 INFO mlflow.tracking.fluent: Autologging successfully enabled for xgboost.\n",
      "/home/edyn/Documentos/obsidian-doc/Projects/MachineLearningEngineer/Curso2/Proyecto/Repo/sales_store_prediction_segmentation/.venv/lib/python3.12/site-packages/mlflow/store/tracking/rest_store.py:262: DeprecationWarning: label() is deprecated. Use is_required() or is_repeated() instead.\n",
      "  req_body = message_to_json(\n",
      "2025/08/22 14:29:00 WARNING mlflow.utils.autologging_utils: MLflow autologging encountered a warning: \"/home/edyn/Documentos/obsidian-doc/Projects/MachineLearningEngineer/Curso2/Proyecto/Repo/sales_store_prediction_segmentation/.venv/lib/python3.12/site-packages/mlflow/types/utils.py:452: UserWarning: Hint: Inferred schema contains integer column(s). Integer columns in Python cannot represent missing values. If your input data contains missing values at inference time, it will be encoded as floats and will cause a schema enforcement error. The best way to avoid this problem is to infer the model schema based on a realistic data sample (training dataset) that includes missing values. Alternatively, you can declare integer columns as doubles (float64) whenever these columns may have missing values. See `Handling Integers With Missing Values <https://www.mlflow.org/docs/latest/models.html#handling-integers-with-missing-values>`_ for more details.\"\n",
      "2025/08/22 14:29:00 WARNING mlflow.utils.autologging_utils: MLflow autologging encountered a warning: \"/home/edyn/Documentos/obsidian-doc/Projects/MachineLearningEngineer/Curso2/Proyecto/Repo/sales_store_prediction_segmentation/.venv/lib/python3.12/site-packages/mlflow/store/tracking/rest_store.py:771: DeprecationWarning: label() is deprecated. Use is_required() or is_repeated() instead.\"\n",
      "2025/08/22 14:29:00 WARNING mlflow.utils.autologging_utils: MLflow autologging encountered a warning: \"/home/edyn/Documentos/obsidian-doc/Projects/MachineLearningEngineer/Curso2/Proyecto/Repo/sales_store_prediction_segmentation/.venv/lib/python3.12/site-packages/mlflow/store/tracking/rest_store.py:771: DeprecationWarning: label() is deprecated. Use is_required() or is_repeated() instead.\"\n",
      "2025/08/22 14:29:00 WARNING mlflow.utils.autologging_utils: MLflow autologging encountered a warning: \"/home/edyn/Documentos/obsidian-doc/Projects/MachineLearningEngineer/Curso2/Proyecto/Repo/sales_store_prediction_segmentation/.venv/lib/python3.12/site-packages/mlflow/types/utils.py:452: UserWarning: Hint: Inferred schema contains integer column(s). Integer columns in Python cannot represent missing values. If your input data contains missing values at inference time, it will be encoded as floats and will cause a schema enforcement error. The best way to avoid this problem is to infer the model schema based on a realistic data sample (training dataset) that includes missing values. Alternatively, you can declare integer columns as doubles (float64) whenever these columns may have missing values. See `Handling Integers With Missing Values <https://www.mlflow.org/docs/latest/models.html#handling-integers-with-missing-values>`_ for more details.\"\n",
      "2025/08/22 14:29:00 WARNING mlflow.utils.autologging_utils: MLflow autologging encountered a warning: \"/home/edyn/Documentos/obsidian-doc/Projects/MachineLearningEngineer/Curso2/Proyecto/Repo/sales_store_prediction_segmentation/.venv/lib/python3.12/site-packages/mlflow/store/tracking/rest_store.py:1018: DeprecationWarning: label() is deprecated. Use is_required() or is_repeated() instead.\"\n",
      "2025/08/22 14:29:00 WARNING mlflow.utils.autologging_utils: MLflow autologging encountered a warning: \"/home/edyn/Documentos/obsidian-doc/Projects/MachineLearningEngineer/Curso2/Proyecto/Repo/sales_store_prediction_segmentation/.venv/lib/python3.12/site-packages/mlflow/utils/proto_json_utils.py:121: DeprecationWarning: label() is deprecated. Use is_required() or is_repeated() instead.\"\n",
      "2025/08/22 14:29:01 WARNING mlflow.utils.autologging_utils: Encountered unexpected error during sklearn autologging: INTERNAL_ERROR: Response: {'error': 'unsupported endpoint, please contact support@dagshub.com'}\n",
      "2025-08-22 14:29:01,518 - INFO - Silhouette Score: 0.1942\n",
      "2025-08-22 14:29:01,518 - INFO - Davies-Bouldin Index: 1.4256\n",
      "2025-08-22 14:29:01,518 - INFO - Calinski-Harabasz Index: 235.8621\n",
      "/home/edyn/Documentos/obsidian-doc/Projects/MachineLearningEngineer/Curso2/Proyecto/Repo/sales_store_prediction_segmentation/.venv/lib/python3.12/site-packages/mlflow/store/tracking/rest_store.py:771: DeprecationWarning: label() is deprecated. Use is_required() or is_repeated() instead.\n",
      "  req_body = message_to_json(\n",
      "/home/edyn/Documentos/obsidian-doc/Projects/MachineLearningEngineer/Curso2/Proyecto/Repo/sales_store_prediction_segmentation/.venv/lib/python3.12/site-packages/mlflow/utils/proto_json_utils.py:121: DeprecationWarning: label() is deprecated. Use is_required() or is_repeated() instead.\n",
      "  json_dict_with_int64_fields_only = _mark_int64_fields(message)\n",
      "2025-08-22 14:29:02,662 - INFO - Guardando modelo en: /home/edyn/Documentos/obsidian-doc/Projects/MachineLearningEngineer/Curso2/Proyecto/Repo/sales_store_prediction_segmentation/models/KMeans_4.pkl\n",
      "🏃 View run KMeans_4 at: https://dagshub.com/edynsoncoronado/sales_store_prediction_segmentation.mlflow/#/experiments/0/runs/763fd3235a454e778c973813c6b5d50e\n",
      "🧪 View experiment at: https://dagshub.com/edynsoncoronado/sales_store_prediction_segmentation.mlflow/#/experiments/0\n",
      "✅ Modelo registrado en MLflow: KMeans_4\n",
      "2025-08-22 14:29:03,990 - INFO - Entrenamiento de modelos completado.\n",
      "🏃 View run orderly-mole-960 at: https://dagshub.com/edynsoncoronado/sales_store_prediction_segmentation.mlflow/#/experiments/0/runs/225acfc290fc48bca48c04a24a716fea\n",
      "🧪 View experiment at: https://dagshub.com/edynsoncoronado/sales_store_prediction_segmentation.mlflow/#/experiments/0\n",
      "/home/edyn/Documentos/obsidian-doc/Projects/MachineLearningEngineer/Curso2/Proyecto/Repo/sales_store_prediction_segmentation/.venv/lib/python3.12/site-packages/mlflow/store/tracking/rest_store.py:233: DeprecationWarning: label() is deprecated. Use is_required() or is_repeated() instead.\n",
      "  req_body = message_to_json(\n"
     ]
    }
   ],
   "source": [
    "! uv run python ../ml_prediction_segmentation/modeling/train.py"
   ]
  },
  {
   "cell_type": "code",
   "execution_count": null,
   "id": "0c257d9c",
   "metadata": {},
   "outputs": [],
   "source": []
  }
 ],
 "metadata": {
  "kernelspec": {
   "display_name": "ml-prediction-segmentation",
   "language": "python",
   "name": "python3"
  },
  "language_info": {
   "codemirror_mode": {
    "name": "ipython",
    "version": 3
   },
   "file_extension": ".py",
   "mimetype": "text/x-python",
   "name": "python",
   "nbconvert_exporter": "python",
   "pygments_lexer": "ipython3",
   "version": "3.12.1"
  }
 },
 "nbformat": 4,
 "nbformat_minor": 5
}
