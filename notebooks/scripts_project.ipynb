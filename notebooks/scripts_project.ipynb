{
 "cells": [
  {
   "cell_type": "code",
   "execution_count": 1,
   "id": "64438fee-06f0-4235-bce0-c1be043c9054",
   "metadata": {},
   "outputs": [
    {
     "name": "stdout",
     "output_type": "stream",
     "text": [
      "\u001b[32m2025-08-18 11:24:18.944\u001b[0m | \u001b[1mINFO    \u001b[0m | \u001b[36mml_prediction_segmentation.config\u001b[0m:\u001b[36m<module>\u001b[0m:\u001b[36m11\u001b[0m - \u001b[1mPROJ_ROOT path is: /home/edyn/Documentos/obsidian-doc/Projects/MachineLearningEngineer/Curso2/Proyecto/Repo/sales_store_prediction_segmentation\u001b[0m\n",
      "2025-08-18 11:24:18,952 - INFO - 📥 Cargando datasets desde /home/edyn/Documentos/obsidian-doc/Projects/MachineLearningEngineer/Curso2/Proyecto/Repo/sales_store_prediction_segmentation/data/raw\n",
      "2025-08-18 11:24:20,188 - INFO - ✅ Datasets cargados correctamente\n",
      "2025-08-18 11:24:20,188 - INFO - 🧹 Limpiando datos y uniendo tablas...\n",
      "/home/edyn/Documentos/obsidian-doc/Projects/MachineLearningEngineer/Curso2/Proyecto/Repo/sales_store_prediction_segmentation/notebooks/../ml_prediction_segmentation/preprocess.py:50: FutureWarning: A value is trying to be set on a copy of a DataFrame or Series through chained assignment using an inplace method.\n",
      "The behavior will change in pandas 3.0. This inplace method will never work because the intermediate object on which we are setting values always behaves as a copy.\n",
      "\n",
      "For example, when doing 'df[col].method(value, inplace=True)', try using 'df.method({col: value}, inplace=True)' or df[col] = df[col].method(value) instead, to perform the operation inplace on the original object.\n",
      "\n",
      "\n",
      "  oil[\"dcoilwtico\"].fillna(method=\"ffill\", inplace=True)\n",
      "/home/edyn/Documentos/obsidian-doc/Projects/MachineLearningEngineer/Curso2/Proyecto/Repo/sales_store_prediction_segmentation/notebooks/../ml_prediction_segmentation/preprocess.py:50: FutureWarning: Series.fillna with 'method' is deprecated and will raise in a future version. Use obj.ffill() or obj.bfill() instead.\n",
      "  oil[\"dcoilwtico\"].fillna(method=\"ffill\", inplace=True)\n",
      "2025-08-18 11:24:21,666 - INFO - ✅ Dataset integrado, tamaño final: (3054348, 17)\n",
      "2025-08-18 11:24:23,521 - INFO - 💾 Dataset limpio guardado en /home/edyn/Documentos/obsidian-doc/Projects/MachineLearningEngineer/Curso2/Proyecto/Repo/sales_store_prediction_segmentation/data/processed/favorita_clean.parquet\n"
     ]
    }
   ],
   "source": [
    "! uv run python ../ml_prediction_segmentation/preprocess.py"
   ]
  },
  {
   "cell_type": "markdown",
   "id": "7455af65",
   "metadata": {},
   "source": [
    "# Train"
   ]
  },
  {
   "cell_type": "code",
   "execution_count": 17,
   "id": "831d68d9",
   "metadata": {},
   "outputs": [
    {
     "name": "stdout",
     "output_type": "stream",
     "text": [
      "\u001b[32m2025-08-21 14:43:14.384\u001b[0m | \u001b[1mINFO    \u001b[0m | \u001b[36mml_prediction_segmentation.config\u001b[0m:\u001b[36m<module>\u001b[0m:\u001b[36m11\u001b[0m - \u001b[1mPROJ_ROOT path is: /home/edyn/Documentos/obsidian-doc/Projects/MachineLearningEngineer/Curso2/Proyecto/Repo/sales_store_prediction_segmentation\u001b[0m\n",
      "2025-08-21 14:43:14,389 - INFO - Entrenamiento de modelos iniciado...\n",
      "2025-08-21 14:43:15,174 - INFO - Registry cache expired, so refreshing\n",
      "2025-08-21 14:43:15,175 - INFO - Registry cache expired, so refreshing\n",
      "2025-08-21 14:43:15,176 - INFO - Registry cache expired, so refreshing\n",
      "2025-08-21 14:43:15,177 - INFO - Registry cache expired, so refreshing\n",
      "2025-08-21 14:43:15,178 - INFO - Registry cache expired, so refreshing\n",
      "Using date as the event timestamp. To specify a column explicitly, please name it event_timestamp.\n",
      "2025-08-21 14:43:15,181 - INFO - Registry cache expired, so refreshing\n",
      "2025-08-21 14:43:32,651 - INFO - ✅ Dataset de entrenamiento obtenido de Feast con shape (1000, 8)\n",
      "2025-08-21 14:43:32,780 - INFO - R2 Score=0.8869\n",
      "2025-08-21 14:43:32,780 - INFO - Entrenamiento de modelos completado.\n"
     ]
    }
   ],
   "source": [
    "# ! uv run python ../ml_prediction_segmentation/modeling/train.py --features-path ../data/processed/features.csv --target-path ../data/processed/target.csv --model-path ../models/xgboost_model.pkl\n",
    "! uv run python ../ml_prediction_segmentation/modeling/train.py"
   ]
  },
  {
   "cell_type": "code",
   "execution_count": null,
   "id": "b1211afe",
   "metadata": {},
   "outputs": [],
   "source": []
  }
 ],
 "metadata": {
  "kernelspec": {
   "display_name": "ml-prediction-segmentation",
   "language": "python",
   "name": "python3"
  },
  "language_info": {
   "codemirror_mode": {
    "name": "ipython",
    "version": 3
   },
   "file_extension": ".py",
   "mimetype": "text/x-python",
   "name": "python",
   "nbconvert_exporter": "python",
   "pygments_lexer": "ipython3",
   "version": "3.12.1"
  }
 },
 "nbformat": 4,
 "nbformat_minor": 5
}
