{
 "cells": [
  {
   "cell_type": "code",
   "execution_count": 1,
   "id": "894b003a",
   "metadata": {},
   "outputs": [
    {
     "name": "stderr",
     "output_type": "stream",
     "text": [
      "\u001b[32m2025-08-16 13:48:52.844\u001b[0m | \u001b[1mINFO    \u001b[0m | \u001b[36mml_prediction_segmentation.config\u001b[0m:\u001b[36m<module>\u001b[0m:\u001b[36m11\u001b[0m - \u001b[1mPROJ_ROOT path is: /home/edyn/Documentos/obsidian-doc/Projects/MachineLearningEngineer/Curso2/Proyecto/Repo/sales_store_prediction_segmentation\u001b[0m\n"
     ]
    }
   ],
   "source": [
    "from ml_prediction_segmentation import config"
   ]
  },
  {
   "cell_type": "code",
   "execution_count": 2,
   "id": "74c0be2f",
   "metadata": {},
   "outputs": [
    {
     "data": {
      "text/plain": [
       "PosixPath('/home/edyn/Documentos/obsidian-doc/Projects/MachineLearningEngineer/Curso2/Proyecto/Repo/sales_store_prediction_segmentation/data/raw')"
      ]
     },
     "execution_count": 2,
     "metadata": {},
     "output_type": "execute_result"
    }
   ],
   "source": [
    "config.RAW_DATA_DIR"
   ]
  },
  {
   "cell_type": "markdown",
   "id": "8cf77001",
   "metadata": {},
   "source": [
    "# ================================\n",
    "# 1. Importar librerías\n",
    "# ================================"
   ]
  },
  {
   "cell_type": "code",
   "execution_count": 3,
   "id": "90199bf6",
   "metadata": {},
   "outputs": [],
   "source": [
    "import pandas as pd\n",
    "import numpy as np\n",
    "import matplotlib.pyplot as plt"
   ]
  },
  {
   "cell_type": "markdown",
   "id": "7923b5ee",
   "metadata": {},
   "source": [
    "# ================================\n",
    "# 2. Cargar datasets originales\n",
    "# ================================"
   ]
  },
  {
   "cell_type": "code",
   "execution_count": null,
   "id": "9c103b40",
   "metadata": {},
   "outputs": [
    {
     "name": "stdout",
     "output_type": "stream",
     "text": [
      "Datasets cargados correctamente.\n"
     ]
    }
   ],
   "source": [
    "# source: https://www.kaggle.com/competitions/store-sales-time-series-forecasting\n",
    "\n",
    "sales = pd.read_csv(f\"{config.RAW_DATA_DIR}/train.csv\", parse_dates=[\"date\"])\n",
    "stores = pd.read_csv(f\"{config.RAW_DATA_DIR}/stores.csv\")\n",
    "oil = pd.read_csv(f\"{config.RAW_DATA_DIR}/oil.csv\", parse_dates=[\"date\"])\n",
    "holidays = pd.read_csv(f\"{config.RAW_DATA_DIR}/holidays_events.csv\", parse_dates=[\"date\"])\n",
    "transactions = pd.read_csv(f\"{config.RAW_DATA_DIR}/transactions.csv\", parse_dates=[\"date\"])\n",
    "\n",
    "print(\"Datasets cargados correctamente.\")"
   ]
  },
  {
   "cell_type": "markdown",
   "id": "53cd89be",
   "metadata": {},
   "source": [
    "# ================================\n",
    "# 3. Revisar valores nulos\n",
    "# ================================"
   ]
  },
  {
   "cell_type": "code",
   "execution_count": 5,
   "id": "dfb3ac6a",
   "metadata": {},
   "outputs": [
    {
     "name": "stdout",
     "output_type": "stream",
     "text": [
      "\n",
      "Valores nulos en cada dataset:\n",
      "Sales:\n",
      " id             0\n",
      "date           0\n",
      "store_nbr      0\n",
      "family         0\n",
      "sales          0\n",
      "onpromotion    0\n",
      "dtype: int64\n",
      "Oil:\n",
      " date           0\n",
      "dcoilwtico    43\n",
      "dtype: int64\n",
      "Holidays:\n",
      " date           0\n",
      "type           0\n",
      "locale         0\n",
      "locale_name    0\n",
      "description    0\n",
      "transferred    0\n",
      "dtype: int64\n",
      "Transactions:\n",
      " date            0\n",
      "store_nbr       0\n",
      "transactions    0\n",
      "dtype: int64\n"
     ]
    }
   ],
   "source": [
    "print(\"\\nValores nulos en cada dataset:\")\n",
    "print(\"Sales:\\n\", sales.isnull().sum())\n",
    "print(\"Oil:\\n\", oil.isnull().sum())\n",
    "print(\"Holidays:\\n\", holidays.isnull().sum())\n",
    "print(\"Transactions:\\n\", transactions.isnull().sum())"
   ]
  },
  {
   "cell_type": "code",
   "execution_count": null,
   "id": "84d77a58",
   "metadata": {},
   "outputs": [
    {
     "data": {
      "text/plain": [
       "(43, 2)"
      ]
     },
     "execution_count": 6,
     "metadata": {},
     "output_type": "execute_result"
    }
   ],
   "source": [
    "# Revisar valores nulos en la columna 'dcoilwtico' del dataset de petróleo\n",
    "null_dcoilwtico = oil[oil['dcoilwtico'].isnull()]\n",
    "null_dcoilwtico.shape"
   ]
  },
  {
   "cell_type": "code",
   "execution_count": 7,
   "id": "c353dc7a",
   "metadata": {},
   "outputs": [
    {
     "name": "stdout",
     "output_type": "stream",
     "text": [
      "Oil:\n",
      " date          0\n",
      "dcoilwtico    1\n",
      "dtype: int64\n"
     ]
    },
    {
     "name": "stderr",
     "output_type": "stream",
     "text": [
      "/tmp/ipykernel_89881/4103000526.py:2: FutureWarning: A value is trying to be set on a copy of a DataFrame or Series through chained assignment using an inplace method.\n",
      "The behavior will change in pandas 3.0. This inplace method will never work because the intermediate object on which we are setting values always behaves as a copy.\n",
      "\n",
      "For example, when doing 'df[col].method(value, inplace=True)', try using 'df.method({col: value}, inplace=True)' or df[col] = df[col].method(value) instead, to perform the operation inplace on the original object.\n",
      "\n",
      "\n",
      "  oil[\"dcoilwtico\"].fillna(method=\"ffill\", inplace=True)\n",
      "/tmp/ipykernel_89881/4103000526.py:2: FutureWarning: Series.fillna with 'method' is deprecated and will raise in a future version. Use obj.ffill() or obj.bfill() instead.\n",
      "  oil[\"dcoilwtico\"].fillna(method=\"ffill\", inplace=True)\n"
     ]
    }
   ],
   "source": [
    "# Rellenar nulos de precios de petróleo (ejemplo: forward fill)\n",
    "oil[\"dcoilwtico\"].fillna(method=\"ffill\", inplace=True)\n",
    "print(\"Oil:\\n\", oil.isnull().sum())"
   ]
  },
  {
   "cell_type": "code",
   "execution_count": null,
   "id": "d8d78523",
   "metadata": {},
   "outputs": [
    {
     "data": {
      "text/html": [
       "<div>\n",
       "<style scoped>\n",
       "    .dataframe tbody tr th:only-of-type {\n",
       "        vertical-align: middle;\n",
       "    }\n",
       "\n",
       "    .dataframe tbody tr th {\n",
       "        vertical-align: top;\n",
       "    }\n",
       "\n",
       "    .dataframe thead th {\n",
       "        text-align: right;\n",
       "    }\n",
       "</style>\n",
       "<table border=\"1\" class=\"dataframe\">\n",
       "  <thead>\n",
       "    <tr style=\"text-align: right;\">\n",
       "      <th></th>\n",
       "      <th>date</th>\n",
       "      <th>dcoilwtico</th>\n",
       "    </tr>\n",
       "  </thead>\n",
       "  <tbody>\n",
       "    <tr>\n",
       "      <th>0</th>\n",
       "      <td>2013-01-01</td>\n",
       "      <td>NaN</td>\n",
       "    </tr>\n",
       "    <tr>\n",
       "      <th>14</th>\n",
       "      <td>2013-01-21</td>\n",
       "      <td>95.61</td>\n",
       "    </tr>\n",
       "    <tr>\n",
       "      <th>34</th>\n",
       "      <td>2013-02-18</td>\n",
       "      <td>95.95</td>\n",
       "    </tr>\n",
       "    <tr>\n",
       "      <th>63</th>\n",
       "      <td>2013-03-29</td>\n",
       "      <td>97.24</td>\n",
       "    </tr>\n",
       "    <tr>\n",
       "      <th>104</th>\n",
       "      <td>2013-05-27</td>\n",
       "      <td>93.84</td>\n",
       "    </tr>\n",
       "  </tbody>\n",
       "</table>\n",
       "</div>"
      ],
      "text/plain": [
       "          date  dcoilwtico\n",
       "0   2013-01-01         NaN\n",
       "14  2013-01-21       95.61\n",
       "34  2013-02-18       95.95\n",
       "63  2013-03-29       97.24\n",
       "104 2013-05-27       93.84"
      ]
     },
     "execution_count": 8,
     "metadata": {},
     "output_type": "execute_result"
    }
   ],
   "source": [
    "# Visualizar las primeras filas donde originalmente había nulos en 'dcoilwtico'\n",
    "oil.loc[null_dcoilwtico.index, ['date', 'dcoilwtico']].head()"
   ]
  },
  {
   "cell_type": "code",
   "execution_count": null,
   "id": "11abc69e",
   "metadata": {},
   "outputs": [
    {
     "data": {
      "image/png": "[encoded data removed]",
      "text/plain": [
       "<Figure size 1200x600 with 1 Axes>"
      ]
     },
     "metadata": {},
     "output_type": "display_data"
    }
   ],
   "source": [
    "# Graficar la evolución del precio del petróleo a lo largo del tiempo\n",
    "plt.figure(figsize=(12, 6))\n",
    "plt.plot(oil['date'], oil['dcoilwtico'])\n",
    "plt.title('Precio del petróleo (dcoilwtico) a lo largo del tiempo')\n",
    "plt.xlabel('Fecha')\n",
    "plt.ylabel('Precio del petróleo')\n",
    "plt.grid(True)\n",
    "plt.show()"
   ]
  },
  {
   "cell_type": "markdown",
   "id": "9b3fe485",
   "metadata": {},
   "source": [
    "# ================================\n",
    "# 4. Unir datasets complementarios\n",
    "# ================================"
   ]
  },
  {
   "cell_type": "code",
   "execution_count": 10,
   "id": "d7f1e1f0",
   "metadata": {},
   "outputs": [
    {
     "name": "stdout",
     "output_type": "stream",
     "text": [
      "\n",
      "Dataset integrado shape: (3054348, 17)\n"
     ]
    }
   ],
   "source": [
    "# Add prefixes\n",
    "sales_prefixed = sales.add_prefix('sales_')\n",
    "stores_prefixed = stores.add_prefix('stores_')\n",
    "transactions_prefixed = transactions.add_prefix('trans_')\n",
    "oil_prefixed = oil.add_prefix('oil_')\n",
    "holidays_prefixed = holidays.add_prefix('holidays_')\n",
    "\n",
    "# Restore 'store_nbr' & 'date' columns without prefix in DataFrames\n",
    "sales_prefixed = sales_prefixed.rename(columns={'sales_store_nbr': 'store_nbr', 'sales_date': 'date'})\n",
    "stores_prefixed = stores_prefixed.rename(columns={'stores_store_nbr': 'store_nbr'})\n",
    "transactions_prefixed = transactions_prefixed.rename(columns={'trans_store_nbr': 'store_nbr', 'trans_date': 'date'})\n",
    "oil_prefixed = oil_prefixed.rename(columns={'oil_date': 'date'})\n",
    "holidays_prefixed = holidays_prefixed.rename(columns={'holidays_date': 'date'})\n",
    "\n",
    "# Merge ventas con tiendas (por tienda)\n",
    "df1 = sales_prefixed.merge(\n",
    "    stores_prefixed,\n",
    "    on=\"store_nbr\",\n",
    "    how=\"left\"\n",
    ")\n",
    "\n",
    "# Merge con transacciones (por tienda y fecha)\n",
    "df2 = df1.merge(\n",
    "    transactions_prefixed, \n",
    "    on=[\"date\", \"store_nbr\"],\n",
    "    how=\"left\"\n",
    ")\n",
    "\n",
    "# Merge con precios de petróleo (por fecha)\n",
    "df3 = df2.merge(\n",
    "    oil_prefixed, \n",
    "    on=\"date\",\n",
    "    how=\"left\"\n",
    ")\n",
    "\n",
    "# Merge con feriados (por fecha)\n",
    "df4 = df3.merge(\n",
    "    holidays_prefixed, \n",
    "    on=\"date\", \n",
    "    how=\"left\"\n",
    ")\n",
    "\n",
    "print(\"\\nDataset integrado shape:\", df4.shape)"
   ]
  },
  {
   "cell_type": "markdown",
   "id": "1246dc10",
   "metadata": {},
   "source": [
    "# ================================\n",
    "# 5. Guardar versión limpia\n",
    "# ================================"
   ]
  },
  {
   "cell_type": "code",
   "execution_count": 11,
   "id": "fb7f8400",
   "metadata": {},
   "outputs": [
    {
     "name": "stdout",
     "output_type": "stream",
     "text": [
      "✅ Dataset limpio guardado en 'favorita_clean.parquet'\n"
     ]
    }
   ],
   "source": [
    "# Formato parquet para Databricks o uso eficiente\n",
    "# uv add pyarrow\n",
    "df4.to_parquet(f\"{config.PROCESSED_DATA_DIR}/favorita_clean.parquet\", index=False)\n",
    "\n",
    "print(\"✅ Dataset limpio guardado en 'favorita_clean.parquet'\")"
   ]
  }
 ],
 "metadata": {
  "kernelspec": {
   "display_name": "Python 3 (ipykernel)",
   "language": "python",
   "name": "python3"
  },
  "language_info": {
   "codemirror_mode": {
    "name": "ipython",
    "version": 3
   },
   "file_extension": ".py",
   "mimetype": "text/x-python",
   "name": "python",
   "nbconvert_exporter": "python",
   "pygments_lexer": "ipython3",
   "version": "3.12.1"
  }
 },
 "nbformat": 4,
 "nbformat_minor": 5
}
